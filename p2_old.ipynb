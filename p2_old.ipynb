{
 "cells": [
  {
   "cell_type": "code",
   "execution_count": 43,
   "metadata": {},
   "outputs": [],
   "source": [
    "import numpy as np\n",
    "import pandas as pd\n",
    "import os\n",
    "from sklearn.feature_extraction.text import CountVectorizer\n",
    "import sklearn.linear_model\n",
    "from sklearn.model_selection import GridSearchCV\n",
    "from sklearn.metrics import make_scorer, roc_auc_score\n",
    "import matplotlib.pyplot as plt\n",
    "import pickle\n"
   ]
  },
  {
   "cell_type": "code",
   "execution_count": 44,
   "metadata": {},
   "outputs": [],
   "source": [
    "import torch\n",
    "from torch import nn\n",
    "from torch.utils.data import DataLoader, Dataset, TensorDataset, random_split\n",
    "from transformers import BertTokenizer, BertModel, AdamW, get_linear_schedule_with_warmup\n",
    "from transformers import BertForSequenceClassification\n",
    "from p2_estimator import p2_estimator\n"
   ]
  },
  {
   "cell_type": "code",
   "execution_count": 45,
   "metadata": {},
   "outputs": [],
   "source": [
    "# overview the training data\n",
    "x_train_df = pd.read_csv(os.path.join('data_reviews', 'x_train.csv'))\n",
    "y_train_df = pd.read_csv(os.path.join('data_reviews', 'y_train.csv'))\n",
    "\n",
    "tr_text_list = x_train_df.values.tolist()\n",
    "tr_y_list = y_train_df.values.tolist()\n",
    "\n",
    "tr_y = np.hstack(np.array(tr_y_list))\n",
    "\n",
    "reviews_list = [val[1].lower() for val in tr_text_list]\n"
   ]
  },
  {
   "cell_type": "code",
   "execution_count": 46,
   "metadata": {},
   "outputs": [],
   "source": [
    "# model = BertForSequenceClassification.from_pretrained('bert-base-uncased', num_labels=2)\n",
    "# print(model.config)"
   ]
  },
  {
   "cell_type": "code",
   "execution_count": 47,
   "metadata": {},
   "outputs": [],
   "source": [
    "# config[\"hidden_size\"] = 64/128/32/...\n",
    "# config[\"num_heads\"] = 64/128/32/...\n",
    "# config[\"hidden_size\"] = 64/128/32/...\n",
    "\n",
    "param_grid = { 'hidden_size' : [16, 32, 64, 128],\n",
    "    'num_hidden_layers': [1, 3, 5, 7],\n",
    "}"
   ]
  },
  {
   "cell_type": "code",
   "execution_count": 48,
   "metadata": {},
   "outputs": [
    {
     "name": "stderr",
     "output_type": "stream",
     "text": [
      "Some weights of BertForSequenceClassification were not initialized from the model checkpoint at bert-base-uncased and are newly initialized: ['classifier.bias', 'classifier.weight']\n",
      "You should probably TRAIN this model on a down-stream task to be able to use it for predictions and inference.\n"
     ]
    },
    {
     "ename": "TypeError",
     "evalue": "'BertConfig' object does not support item assignment",
     "output_type": "error",
     "traceback": [
      "\u001b[0;31m---------------------------------------------------------------------------\u001b[0m",
      "\u001b[0;31mTypeError\u001b[0m                                 Traceback (most recent call last)",
      "Cell \u001b[0;32mIn[48], line 1\u001b[0m\n\u001b[0;32m----> 1\u001b[0m bert \u001b[38;5;241m=\u001b[39m \u001b[43mp2_estimator\u001b[49m\u001b[43m(\u001b[49m\u001b[43m)\u001b[49m\n\u001b[1;32m      3\u001b[0m auroc_scorer \u001b[38;5;241m=\u001b[39m make_scorer(roc_auc_score, needs_proba\u001b[38;5;241m=\u001b[39m\u001b[38;5;28;01mTrue\u001b[39;00m, greater_is_better\u001b[38;5;241m=\u001b[39m\u001b[38;5;28;01mTrue\u001b[39;00m)\n\u001b[1;32m      4\u001b[0m grid_search \u001b[38;5;241m=\u001b[39m GridSearchCV(bert, param_grid, scoring\u001b[38;5;241m=\u001b[39mauroc_scorer, cv\u001b[38;5;241m=\u001b[39m\u001b[38;5;241m5\u001b[39m, refit\u001b[38;5;241m=\u001b[39m\u001b[38;5;28;01mTrue\u001b[39;00m, return_train_score\u001b[38;5;241m=\u001b[39m\u001b[38;5;28;01mTrue\u001b[39;00m)\n",
      "File \u001b[0;32m~/classes/cs135-projA/p2_estimator.py:26\u001b[0m, in \u001b[0;36mp2_estimator.__init__\u001b[0;34m(self, hidden_size, num_hidden_layer)\u001b[0m\n\u001b[1;32m     24\u001b[0m \u001b[38;5;28mself\u001b[39m\u001b[38;5;241m.\u001b[39mmodel \u001b[38;5;241m=\u001b[39m BertForSequenceClassification\u001b[38;5;241m.\u001b[39mfrom_pretrained(\u001b[38;5;124m'\u001b[39m\u001b[38;5;124mbert-base-uncased\u001b[39m\u001b[38;5;124m'\u001b[39m, num_labels\u001b[38;5;241m=\u001b[39m\u001b[38;5;241m2\u001b[39m)\n\u001b[1;32m     25\u001b[0m config \u001b[38;5;241m=\u001b[39m \u001b[38;5;28mself\u001b[39m\u001b[38;5;241m.\u001b[39mmodel\u001b[38;5;241m.\u001b[39mconfig\n\u001b[0;32m---> 26\u001b[0m config[\u001b[38;5;124m\"\u001b[39m\u001b[38;5;124mhidden_size\u001b[39m\u001b[38;5;124m\"\u001b[39m] \u001b[38;5;241m=\u001b[39m hidden_size\n\u001b[1;32m     27\u001b[0m config[\u001b[38;5;124m\"\u001b[39m\u001b[38;5;124mnum_hidden_layer\u001b[39m\u001b[38;5;124m\"\u001b[39m] \u001b[38;5;241m=\u001b[39m num_hidden_layer\n\u001b[1;32m     28\u001b[0m \u001b[38;5;28mself\u001b[39m\u001b[38;5;241m.\u001b[39mmodel \u001b[38;5;241m=\u001b[39m BertForSequenceClassification(config)\n",
      "\u001b[0;31mTypeError\u001b[0m: 'BertConfig' object does not support item assignment"
     ]
    }
   ],
   "source": [
    "bert = p2_estimator()\n",
    "\n",
    "auroc_scorer = make_scorer(roc_auc_score, needs_proba=True, greater_is_better=True)\n",
    "grid_search = GridSearchCV(bert, param_grid, scoring=auroc_scorer, cv=5, refit=True, return_train_score=True)\n",
    "\n",
    "grid_search.fit(reviews_list, tr_y)"
   ]
  }
 ],
 "metadata": {
  "kernelspec": {
   "display_name": "cs135_env",
   "language": "python",
   "name": "python3"
  },
  "language_info": {
   "codemirror_mode": {
    "name": "ipython",
    "version": 3
   },
   "file_extension": ".py",
   "mimetype": "text/x-python",
   "name": "python",
   "nbconvert_exporter": "python",
   "pygments_lexer": "ipython3",
   "version": "3.10.13"
  }
 },
 "nbformat": 4,
 "nbformat_minor": 2
}
